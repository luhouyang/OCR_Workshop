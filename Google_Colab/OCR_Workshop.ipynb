{
  "cells": [
    {
      "cell_type": "markdown",
      "metadata": {
        "id": "OK--PM-cHMHm"
      },
      "source": [
        "# **Optical Character Recognition (OCR) Model: Using TensorFlow and Keras API**\n",
        "\n",
        "\n",
        "---\n",
        "\n",
        "\n",
        "Workshop by LU HOU YANG\n",
        "\n",
        "**[TensorFlow Documentation](https://www.tensorflow.org/api_docs/python/tf)**"
      ]
    },
    {
      "cell_type": "markdown",
      "metadata": {
        "id": "IHiO0mcHwGs0"
      },
      "source": [
        "## **Install TensorFlow & Configure Environment Locally**\n",
        "\n",
        "\n",
        "---\n",
        "\n"
      ]
    },
    {
      "cell_type": "markdown",
      "metadata": {
        "id": "zjKN5j91wTNF"
      },
      "source": [
        "**Youtube Tutorial & Steps**\n",
        "1. [Youtube](https://youtu.be/PnK1jO2kXOQ?list=PLjy4p-07OYzulelvJ5KVaT2pDlxivl_BN)\n",
        "1. [Steps From Youtube Video](https://github.com/jeffheaton/t81_558_deep_learning/blob/master/install/tensorflow-install-jul-2020.ipynb)\n",
        "\n",
        "---\n",
        "\n",
        "\n",
        "1. Install [Anaconda](https://docs.anaconda.com/free/anaconda/install/)\n",
        "1. Check [System Requirement](https://www.tensorflow.org/install/pip#system_requirements) for TensorFlow\n",
        "1. Check [Software Requirement](https://www.tensorflow.org/install/pip#software_requirements)  for TensorFlow\n",
        "1. Build Configuration CPU\n",
        "\n",
        "  * [TF CPU Configuration](https://www.tensorflow.org/install/source_windows#cpu)\n",
        "  * Create [Conda Environment]()\n",
        "  * Install [dependancies](https://www.tensorflow.org/install/pip)\n",
        "  ```\n",
        "  # Anything above 2.10 is not supported on the GPU on Windows Native\n",
        "  python -m pip install \"tensorflow<2.11\"\n",
        "  # Verify the installation:\n",
        "  python -c \"import tensorflow as tf; print(tf.config.list_physical_devices('GPU'))\"\n",
        "  ```\n",
        "  \n",
        "1. Build Configuration GPU\n",
        "\n",
        "  * Check if you GPU supports CUDA [here](https://developer.nvidia.com/cuda-gpus)\n",
        "  * [TF GPU Configuration](https://www.tensorflow.org/install/source_windows#gpu)\n",
        "  * [Nvidia CUDA toolkit](https://developer.nvidia.com/cuda-toolkit-archive)\n",
        "  * [cuDNN Archive](https://developer.nvidia.com/rdp/cudnn-archive)\n",
        "  * Create [Conda Environment]()\n",
        "  * Install [dependancies](https://www.tensorflow.org/install/pip). Change CUDA toolkit, cuDNN version\n",
        "  ```\n",
        "  conda install -c conda-forge cudatoolkit=11.2 cudnn=8.1.0\n",
        "  # Anything above 2.10 is not supported on the GPU on Windows Native\n",
        "  python -m pip install \"tensorflow<2.11\"\n",
        "  # Verify the installation:\n",
        "  python -c \"import tensorflow as tf; print(tf.config.list_physical_devices('GPU'))\"\n",
        "  ```"
      ]
    },
    {
      "cell_type": "markdown",
      "metadata": {
        "id": "F1cm_RVpGECL"
      },
      "source": [
        "## **1. Data Collection & Preparation**\n",
        "\n",
        "\n",
        "---\n",
        "\n"
      ]
    },
    {
      "cell_type": "markdown",
      "metadata": {
        "id": "DsMEl-jdH8Oc"
      },
      "source": [
        "### Data Sources"
      ]
    },
    {
      "cell_type": "markdown",
      "metadata": {
        "id": "hVWBjYtlI9bC"
      },
      "source": [
        "**[Kaggle](https://www.kaggle.com)**\n",
        "\n",
        "**[Hugging Face](https://huggingface.co)**\n",
        "\n",
        "**[NIST](https://www.nist.gov/srd/srd-catalog)**"
      ]
    },
    {
      "cell_type": "markdown",
      "metadata": {
        "id": "2fQxJcbWIj5w"
      },
      "source": [
        "### EMNIST Dataset"
      ]
    },
    {
      "cell_type": "markdown",
      "metadata": {
        "id": "9VPdXe0ELTuM"
      },
      "source": [
        "**Extended Modified NIST [(EMNIST)](https://www.nist.gov/itl/products-and-services/emnist-dataset) Dataset**\n",
        "\n",
        "Derived from [NIST Special Database 19](https://www.nist.gov/srd/nist-special-database-19)\n",
        "\n",
        "* EMNIST ByClass: 814,255 characters. 62 unbalanced classes.\n",
        "* EMNIST ByMerge: 814,255 characters. 47 unbalanced classes.\n",
        "* EMNIST Balanced:  131,600 characters. 47 balanced classes.\n",
        "* EMNIST Letters: 145,600 characters. 26 balanced classes.\n",
        "* EMNIST Digits: 280,000 characters. 10 balanced classes.\n",
        "* EMNIST MNIST: 70,000 characters. 10 balanced classes."
      ]
    },
    {
      "cell_type": "markdown",
      "metadata": {
        "id": "ZhyN9TCyIrej"
      },
      "source": [
        "### Download & Inspect Data"
      ]
    },
    {
      "cell_type": "markdown",
      "metadata": {
        "id": "opq2HraILv-3"
      },
      "source": [
        "1. Manual Download - [Kaggle, Balanced EMNIST](https://www.kaggle.com/datasets/crawford/emnist/data)\n",
        "  * [Train CSV](https://www.kaggle.com/datasets/crawford/emnist/data?select=emnist-balanced-train.csv)\n",
        "  * [Test CSV](https://www.kaggle.com/datasets/crawford/emnist/data?select=emnist-balanced-test.csv)\n",
        "  * [Mapping](https://www.kaggle.com/datasets/crawford/emnist/data?select=emnist-balanced-mapping.txt)\n",
        "\n",
        "  Then, unzip the files in the root of project\n",
        "\n",
        "1. From Terminal\n",
        "  * Follow steps from here https://github.com/otenim/Python-EMNIST-Decoder\n",
        "1. From IDE - [NIST SD 19, ByMerge](https://www.nist.gov/srd/nist-special-database-19)\n",
        "```python\n",
        "  import os\n",
        "  import pathlib\n",
        "\n",
        "  DOWNLOAD_DATA_DIR = 'C:\\\\Users\\\\User\\\\Desktop\\\\Python\\\\OCR_Workshop\\\\data'\n",
        "\n",
        "  download data, by_merge, unzip\n",
        "       \n",
        "  download_data_dir = pathlib.Path(DOWNLOAD_DATA_DIR)\n",
        "  if not data_dir.exists():\n",
        "     tf.keras.utils.get_file(\n",
        "          'by_merge.zip',\n",
        "          origin='https://s3.amazonaws.com/nist-srd/SD19/by_merge.zip',\n",
        "          extract=True,\n",
        "          cache_dir='.',\n",
        "          cache_subdir='data'\n",
        "      )\n",
        "```\n",
        "1. Online Google Colab/Jupyter Notebook\n",
        "\n",
        "  Download train/test CSV files, ASCII mapping\n",
        "  ```\n",
        "  !gdown 1ruHQJG2pPaeoSpvexdGgKQrwmZPE-Req\n",
        "  !gdown 1bHJFAdbKr_55HSVsjauuZpI9HGOO9UsZ\n",
        "  !gdown 1hf0mtpXwECXi_IvgwCQrgSzmPe-DHlaT\n",
        "  ```\n",
        "\n",
        "  Unzip the files\n",
        "  ```\n",
        "  !unzip -q /content/emnist-balanced-train.csv.zip\n",
        "  !unzip -q /content/emnist-balanced-test.csv.zip\n",
        "  ```\n",
        "\n",
        "  See mapping\n",
        "  ```\n",
        "  !cat /content/emnist-balanced-mapping.txt\n",
        "  ```"
      ]
    },
    {
      "cell_type": "code",
      "execution_count": 1,
      "metadata": {
        "colab": {
          "base_uri": "https://localhost:8080/",
          "height": 0
        },
        "id": "vDEORtBTvEg7",
        "outputId": "3aaa12f6-299a-4a46-87b5-415dfb62cf9e"
      },
      "outputs": [
        {
          "output_type": "stream",
          "name": "stdout",
          "text": [
            "Downloading...\n",
            "From (original): https://drive.google.com/uc?id=1ruHQJG2pPaeoSpvexdGgKQrwmZPE-Req\n",
            "From (redirected): https://drive.google.com/uc?id=1ruHQJG2pPaeoSpvexdGgKQrwmZPE-Req&confirm=t&uuid=a33ad1ee-cb33-4c0b-8878-e56f45108864\n",
            "To: /content/emnist-balanced-train.csv.zip\n",
            "100% 39.0M/39.0M [00:01<00:00, 19.7MB/s]\n",
            "Downloading...\n",
            "From: https://drive.google.com/uc?id=1bHJFAdbKr_55HSVsjauuZpI9HGOO9UsZ\n",
            "To: /content/emnist-balanced-test.csv.zip\n",
            "100% 6.53M/6.53M [00:00<00:00, 11.6MB/s]\n",
            "Downloading...\n",
            "From: https://drive.google.com/uc?id=1hf0mtpXwECXi_IvgwCQrgSzmPe-DHlaT\n",
            "To: /content/emnist-balanced-mapping.txt\n",
            "100% 326/326 [00:00<00:00, 1.31MB/s]\n"
          ]
        }
      ],
      "source": [
        "# download\n",
        "!gdown 1ruHQJG2pPaeoSpvexdGgKQrwmZPE-Req\n",
        "!gdown 1bHJFAdbKr_55HSVsjauuZpI9HGOO9UsZ\n",
        "!gdown 1hf0mtpXwECXi_IvgwCQrgSzmPe-DHlaT"
      ]
    },
    {
      "cell_type": "code",
      "execution_count": 2,
      "metadata": {
        "id": "WnEFwi3pvEXZ"
      },
      "outputs": [],
      "source": [
        "# unzip\n",
        "!unzip -q /content/emnist-balanced-train.csv.zip\n",
        "!unzip -q /content/emnist-balanced-test.csv.zip"
      ]
    },
    {
      "cell_type": "code",
      "execution_count": 3,
      "metadata": {
        "colab": {
          "base_uri": "https://localhost:8080/",
          "height": 0
        },
        "id": "EHYlIOA-qz3v",
        "outputId": "9f68b74c-eac6-44e3-94f9-72cb9f59988e"
      },
      "outputs": [
        {
          "output_type": "stream",
          "name": "stdout",
          "text": [
            "0 48\r\n",
            "1 49\r\n",
            "2 50\r\n",
            "3 51\r\n",
            "4 52\r\n",
            "5 53\r\n",
            "6 54\r\n",
            "7 55\r\n",
            "8 56\r\n",
            "9 57\r\n",
            "10 65\r\n",
            "11 66\r\n",
            "12 67\r\n",
            "13 68\r\n",
            "14 69\r\n",
            "15 70\r\n",
            "16 71\r\n",
            "17 72\r\n",
            "18 73\r\n",
            "19 74\r\n",
            "20 75\r\n",
            "21 76\r\n",
            "22 77\r\n",
            "23 78\r\n",
            "24 79\r\n",
            "25 80\r\n",
            "26 81\r\n",
            "27 82\r\n",
            "28 83\r\n",
            "29 84\r\n",
            "30 85\r\n",
            "31 86\r\n",
            "32 87\r\n",
            "33 88\r\n",
            "34 89\r\n",
            "35 90\r\n",
            "36 97\r\n",
            "37 98\r\n",
            "38 100\r\n",
            "39 101\r\n",
            "40 102\r\n",
            "41 103\r\n",
            "42 104\r\n",
            "43 110\r\n",
            "44 113\r\n",
            "45 114\r\n",
            "46 116"
          ]
        }
      ],
      "source": [
        "# see mapping\n",
        "!cat /content/emnist-balanced-mapping.txt"
      ]
    },
    {
      "cell_type": "markdown",
      "metadata": {
        "id": "MPYhD-Ubq4Uk"
      },
      "source": [
        "**ASCII chart**\n",
        "\n",
        "![ASCII chart](https://drive.google.com/uc?export=view&id=1fj8tHHXxCDbf87Y6vYhiROQPRzLL3wfV)"
      ]
    },
    {
      "cell_type": "markdown",
      "metadata": {
        "id": "ZjrDz5PaIx4d"
      },
      "source": [
        "### Prepare Data for TensorFlow"
      ]
    },
    {
      "cell_type": "markdown",
      "metadata": {
        "id": "vrwyc6xIMpFr"
      },
      "source": [
        "**Determine Load Function**"
      ]
    },
    {
      "cell_type": "markdown",
      "metadata": {
        "id": "wwRGzKd-Zmva"
      },
      "source": [
        "**pd.read_csv**\n",
        "\n",
        "Read a comma-separated values (csv) file into DataFrame. [pd.read_csv](https://pandas.pydata.org/docs/reference/api/pandas.read_csv.html)\n",
        "```\n",
        "pandas.read_csv(\n",
        "  filepath_or_buffer\n",
        "  )\n",
        "```"
      ]
    },
    {
      "cell_type": "markdown",
      "metadata": {
        "id": "BNk7Oib-M0_A"
      },
      "source": [
        "**tf.keras.utils.image_dataset_from_directory**\n",
        "\n",
        "Require directory structure for [tf.keras.utils.image_dataset_from_directory](https://www.tensorflow.org/api_docs/python/tf/keras/preprocessing/image_dataset_from_directory):\n",
        "```\n",
        "main_directory/\n",
        "...class_a/\n",
        "......a_image_1.jpg\n",
        "......a_image_2.jpg\n",
        "...class_b/\n",
        "......b_image_1.jpg\n",
        "......b_image_2.jpg\n",
        "```"
      ]
    },
    {
      "cell_type": "markdown",
      "metadata": {
        "id": "lj5jI9uSGMqV"
      },
      "source": [
        "## **2. Visualize Data & Preprocessing**\n",
        "\n",
        "\n",
        "---\n",
        "\n"
      ]
    },
    {
      "cell_type": "markdown",
      "metadata": {
        "id": "Yxn2lJQgOgCn"
      },
      "source": [
        "### Load Data & Inspect Shape"
      ]
    },
    {
      "cell_type": "code",
      "execution_count": 4,
      "metadata": {
        "id": "0k8Yw0iYlZ6m",
        "colab": {
          "base_uri": "https://localhost:8080/",
          "height": 0
        },
        "outputId": "a6a06253-e477-451c-dcf2-03aa5f431e01"
      },
      "outputs": [
        {
          "output_type": "execute_result",
          "data": {
            "text/plain": [
              "4"
            ]
          },
          "metadata": {},
          "execution_count": 4
        }
      ],
      "source": [
        "import gc\n",
        "\n",
        "import tensorflow as tf\n",
        "import numpy as np\n",
        "import pandas as pd\n",
        "\n",
        "import seaborn as sns\n",
        "import matplotlib\n",
        "import matplotlib.pyplot as plt\n",
        "%matplotlib inline\n",
        "\n",
        "from keras import layers\n",
        "from keras.models import Sequential\n",
        "from IPython.display import display, clear_output\n",
        "\n",
        "gc.collect()\n",
        "# add any additional imports after this line -----------------------------------"
      ]
    },
    {
      "cell_type": "code",
      "execution_count": 5,
      "metadata": {
        "id": "gmbzb7R1oJgP"
      },
      "outputs": [],
      "source": [
        "# declare global variables\n",
        "SEED = 42\n",
        "tf.random.set_seed(SEED)\n",
        "np.random.seed(SEED)"
      ]
    },
    {
      "cell_type": "code",
      "execution_count": 49,
      "metadata": {
        "id": "w1D0ZAGm7Mun"
      },
      "outputs": [],
      "source": [
        "train_dataframe = pd.read_csv('emnist-balanced-train.csv')\n",
        "test_dataframe = pd.read_csv('emnist-balanced-test.csv')\n",
        "mapping = pd.read_csv('emnist-balanced-mapping.txt', sep=' ', header=None)"
      ]
    },
    {
      "cell_type": "code",
      "execution_count": 50,
      "metadata": {
        "colab": {
          "base_uri": "https://localhost:8080/",
          "height": 343
        },
        "id": "tlL1xp9A7W-Z",
        "outputId": "f7f6f447-b0d9-4488-d0b6-459bbd61b12b"
      },
      "outputs": [
        {
          "output_type": "display_data",
          "data": {
            "text/plain": [
              "   45  0  0.1  0.2  0.3  0.4  0.5  0.6  0.7  0.8  ...  0.524  0.525  0.526  \\\n",
              "0  36  0    0    0    0    0    0    0    0    0  ...      0      0      0   \n",
              "1  43  0    0    0    0    0    0    0    0    0  ...      0      0      0   \n",
              "2  15  0    0    0    0    0    0    0    0    0  ...      0      0      0   \n",
              "3   4  0    0    0    0    0    0    0    0    0  ...      0      0      0   \n",
              "4  42  0    0    0    0    0    0    0    0    0  ...      0      0      0   \n",
              "\n",
              "   0.527  0.528  0.529  0.530  0.531  0.532  0.533  \n",
              "0      0      0      0      0      0      0      0  \n",
              "1      0      0      0      0      0      0      0  \n",
              "2      0      0      0      0      0      0      0  \n",
              "3      0      0      0      0      0      0      0  \n",
              "4      0      0      0      0      0      0      0  \n",
              "\n",
              "[5 rows x 785 columns]"
            ],
            "text/html": [
              "\n",
              "  <div id=\"df-2c4e9d37-aa41-4ec1-8157-4cadefbf4460\" class=\"colab-df-container\">\n",
              "    <div>\n",
              "<style scoped>\n",
              "    .dataframe tbody tr th:only-of-type {\n",
              "        vertical-align: middle;\n",
              "    }\n",
              "\n",
              "    .dataframe tbody tr th {\n",
              "        vertical-align: top;\n",
              "    }\n",
              "\n",
              "    .dataframe thead th {\n",
              "        text-align: right;\n",
              "    }\n",
              "</style>\n",
              "<table border=\"1\" class=\"dataframe\">\n",
              "  <thead>\n",
              "    <tr style=\"text-align: right;\">\n",
              "      <th></th>\n",
              "      <th>45</th>\n",
              "      <th>0</th>\n",
              "      <th>0.1</th>\n",
              "      <th>0.2</th>\n",
              "      <th>0.3</th>\n",
              "      <th>0.4</th>\n",
              "      <th>0.5</th>\n",
              "      <th>0.6</th>\n",
              "      <th>0.7</th>\n",
              "      <th>0.8</th>\n",
              "      <th>...</th>\n",
              "      <th>0.524</th>\n",
              "      <th>0.525</th>\n",
              "      <th>0.526</th>\n",
              "      <th>0.527</th>\n",
              "      <th>0.528</th>\n",
              "      <th>0.529</th>\n",
              "      <th>0.530</th>\n",
              "      <th>0.531</th>\n",
              "      <th>0.532</th>\n",
              "      <th>0.533</th>\n",
              "    </tr>\n",
              "  </thead>\n",
              "  <tbody>\n",
              "    <tr>\n",
              "      <th>0</th>\n",
              "      <td>36</td>\n",
              "      <td>0</td>\n",
              "      <td>0</td>\n",
              "      <td>0</td>\n",
              "      <td>0</td>\n",
              "      <td>0</td>\n",
              "      <td>0</td>\n",
              "      <td>0</td>\n",
              "      <td>0</td>\n",
              "      <td>0</td>\n",
              "      <td>...</td>\n",
              "      <td>0</td>\n",
              "      <td>0</td>\n",
              "      <td>0</td>\n",
              "      <td>0</td>\n",
              "      <td>0</td>\n",
              "      <td>0</td>\n",
              "      <td>0</td>\n",
              "      <td>0</td>\n",
              "      <td>0</td>\n",
              "      <td>0</td>\n",
              "    </tr>\n",
              "    <tr>\n",
              "      <th>1</th>\n",
              "      <td>43</td>\n",
              "      <td>0</td>\n",
              "      <td>0</td>\n",
              "      <td>0</td>\n",
              "      <td>0</td>\n",
              "      <td>0</td>\n",
              "      <td>0</td>\n",
              "      <td>0</td>\n",
              "      <td>0</td>\n",
              "      <td>0</td>\n",
              "      <td>...</td>\n",
              "      <td>0</td>\n",
              "      <td>0</td>\n",
              "      <td>0</td>\n",
              "      <td>0</td>\n",
              "      <td>0</td>\n",
              "      <td>0</td>\n",
              "      <td>0</td>\n",
              "      <td>0</td>\n",
              "      <td>0</td>\n",
              "      <td>0</td>\n",
              "    </tr>\n",
              "    <tr>\n",
              "      <th>2</th>\n",
              "      <td>15</td>\n",
              "      <td>0</td>\n",
              "      <td>0</td>\n",
              "      <td>0</td>\n",
              "      <td>0</td>\n",
              "      <td>0</td>\n",
              "      <td>0</td>\n",
              "      <td>0</td>\n",
              "      <td>0</td>\n",
              "      <td>0</td>\n",
              "      <td>...</td>\n",
              "      <td>0</td>\n",
              "      <td>0</td>\n",
              "      <td>0</td>\n",
              "      <td>0</td>\n",
              "      <td>0</td>\n",
              "      <td>0</td>\n",
              "      <td>0</td>\n",
              "      <td>0</td>\n",
              "      <td>0</td>\n",
              "      <td>0</td>\n",
              "    </tr>\n",
              "    <tr>\n",
              "      <th>3</th>\n",
              "      <td>4</td>\n",
              "      <td>0</td>\n",
              "      <td>0</td>\n",
              "      <td>0</td>\n",
              "      <td>0</td>\n",
              "      <td>0</td>\n",
              "      <td>0</td>\n",
              "      <td>0</td>\n",
              "      <td>0</td>\n",
              "      <td>0</td>\n",
              "      <td>...</td>\n",
              "      <td>0</td>\n",
              "      <td>0</td>\n",
              "      <td>0</td>\n",
              "      <td>0</td>\n",
              "      <td>0</td>\n",
              "      <td>0</td>\n",
              "      <td>0</td>\n",
              "      <td>0</td>\n",
              "      <td>0</td>\n",
              "      <td>0</td>\n",
              "    </tr>\n",
              "    <tr>\n",
              "      <th>4</th>\n",
              "      <td>42</td>\n",
              "      <td>0</td>\n",
              "      <td>0</td>\n",
              "      <td>0</td>\n",
              "      <td>0</td>\n",
              "      <td>0</td>\n",
              "      <td>0</td>\n",
              "      <td>0</td>\n",
              "      <td>0</td>\n",
              "      <td>0</td>\n",
              "      <td>...</td>\n",
              "      <td>0</td>\n",
              "      <td>0</td>\n",
              "      <td>0</td>\n",
              "      <td>0</td>\n",
              "      <td>0</td>\n",
              "      <td>0</td>\n",
              "      <td>0</td>\n",
              "      <td>0</td>\n",
              "      <td>0</td>\n",
              "      <td>0</td>\n",
              "    </tr>\n",
              "  </tbody>\n",
              "</table>\n",
              "<p>5 rows × 785 columns</p>\n",
              "</div>\n",
              "    <div class=\"colab-df-buttons\">\n",
              "\n",
              "  <div class=\"colab-df-container\">\n",
              "    <button class=\"colab-df-convert\" onclick=\"convertToInteractive('df-2c4e9d37-aa41-4ec1-8157-4cadefbf4460')\"\n",
              "            title=\"Convert this dataframe to an interactive table.\"\n",
              "            style=\"display:none;\">\n",
              "\n",
              "  <svg xmlns=\"http://www.w3.org/2000/svg\" height=\"24px\" viewBox=\"0 -960 960 960\">\n",
              "    <path d=\"M120-120v-720h720v720H120Zm60-500h600v-160H180v160Zm220 220h160v-160H400v160Zm0 220h160v-160H400v160ZM180-400h160v-160H180v160Zm440 0h160v-160H620v160ZM180-180h160v-160H180v160Zm440 0h160v-160H620v160Z\"/>\n",
              "  </svg>\n",
              "    </button>\n",
              "\n",
              "  <style>\n",
              "    .colab-df-container {\n",
              "      display:flex;\n",
              "      gap: 12px;\n",
              "    }\n",
              "\n",
              "    .colab-df-convert {\n",
              "      background-color: #E8F0FE;\n",
              "      border: none;\n",
              "      border-radius: 50%;\n",
              "      cursor: pointer;\n",
              "      display: none;\n",
              "      fill: #1967D2;\n",
              "      height: 32px;\n",
              "      padding: 0 0 0 0;\n",
              "      width: 32px;\n",
              "    }\n",
              "\n",
              "    .colab-df-convert:hover {\n",
              "      background-color: #E2EBFA;\n",
              "      box-shadow: 0px 1px 2px rgba(60, 64, 67, 0.3), 0px 1px 3px 1px rgba(60, 64, 67, 0.15);\n",
              "      fill: #174EA6;\n",
              "    }\n",
              "\n",
              "    .colab-df-buttons div {\n",
              "      margin-bottom: 4px;\n",
              "    }\n",
              "\n",
              "    [theme=dark] .colab-df-convert {\n",
              "      background-color: #3B4455;\n",
              "      fill: #D2E3FC;\n",
              "    }\n",
              "\n",
              "    [theme=dark] .colab-df-convert:hover {\n",
              "      background-color: #434B5C;\n",
              "      box-shadow: 0px 1px 3px 1px rgba(0, 0, 0, 0.15);\n",
              "      filter: drop-shadow(0px 1px 2px rgba(0, 0, 0, 0.3));\n",
              "      fill: #FFFFFF;\n",
              "    }\n",
              "  </style>\n",
              "\n",
              "    <script>\n",
              "      const buttonEl =\n",
              "        document.querySelector('#df-2c4e9d37-aa41-4ec1-8157-4cadefbf4460 button.colab-df-convert');\n",
              "      buttonEl.style.display =\n",
              "        google.colab.kernel.accessAllowed ? 'block' : 'none';\n",
              "\n",
              "      async function convertToInteractive(key) {\n",
              "        const element = document.querySelector('#df-2c4e9d37-aa41-4ec1-8157-4cadefbf4460');\n",
              "        const dataTable =\n",
              "          await google.colab.kernel.invokeFunction('convertToInteractive',\n",
              "                                                    [key], {});\n",
              "        if (!dataTable) return;\n",
              "\n",
              "        const docLinkHtml = 'Like what you see? Visit the ' +\n",
              "          '<a target=\"_blank\" href=https://colab.research.google.com/notebooks/data_table.ipynb>data table notebook</a>'\n",
              "          + ' to learn more about interactive tables.';\n",
              "        element.innerHTML = '';\n",
              "        dataTable['output_type'] = 'display_data';\n",
              "        await google.colab.output.renderOutput(dataTable, element);\n",
              "        const docLink = document.createElement('div');\n",
              "        docLink.innerHTML = docLinkHtml;\n",
              "        element.appendChild(docLink);\n",
              "      }\n",
              "    </script>\n",
              "  </div>\n",
              "\n",
              "\n",
              "<div id=\"df-59c4d716-fcbc-41e0-bbf6-d864c77e905a\">\n",
              "  <button class=\"colab-df-quickchart\" onclick=\"quickchart('df-59c4d716-fcbc-41e0-bbf6-d864c77e905a')\"\n",
              "            title=\"Suggest charts\"\n",
              "            style=\"display:none;\">\n",
              "\n",
              "<svg xmlns=\"http://www.w3.org/2000/svg\" height=\"24px\"viewBox=\"0 0 24 24\"\n",
              "     width=\"24px\">\n",
              "    <g>\n",
              "        <path d=\"M19 3H5c-1.1 0-2 .9-2 2v14c0 1.1.9 2 2 2h14c1.1 0 2-.9 2-2V5c0-1.1-.9-2-2-2zM9 17H7v-7h2v7zm4 0h-2V7h2v10zm4 0h-2v-4h2v4z\"/>\n",
              "    </g>\n",
              "</svg>\n",
              "  </button>\n",
              "\n",
              "<style>\n",
              "  .colab-df-quickchart {\n",
              "      --bg-color: #E8F0FE;\n",
              "      --fill-color: #1967D2;\n",
              "      --hover-bg-color: #E2EBFA;\n",
              "      --hover-fill-color: #174EA6;\n",
              "      --disabled-fill-color: #AAA;\n",
              "      --disabled-bg-color: #DDD;\n",
              "  }\n",
              "\n",
              "  [theme=dark] .colab-df-quickchart {\n",
              "      --bg-color: #3B4455;\n",
              "      --fill-color: #D2E3FC;\n",
              "      --hover-bg-color: #434B5C;\n",
              "      --hover-fill-color: #FFFFFF;\n",
              "      --disabled-bg-color: #3B4455;\n",
              "      --disabled-fill-color: #666;\n",
              "  }\n",
              "\n",
              "  .colab-df-quickchart {\n",
              "    background-color: var(--bg-color);\n",
              "    border: none;\n",
              "    border-radius: 50%;\n",
              "    cursor: pointer;\n",
              "    display: none;\n",
              "    fill: var(--fill-color);\n",
              "    height: 32px;\n",
              "    padding: 0;\n",
              "    width: 32px;\n",
              "  }\n",
              "\n",
              "  .colab-df-quickchart:hover {\n",
              "    background-color: var(--hover-bg-color);\n",
              "    box-shadow: 0 1px 2px rgba(60, 64, 67, 0.3), 0 1px 3px 1px rgba(60, 64, 67, 0.15);\n",
              "    fill: var(--button-hover-fill-color);\n",
              "  }\n",
              "\n",
              "  .colab-df-quickchart-complete:disabled,\n",
              "  .colab-df-quickchart-complete:disabled:hover {\n",
              "    background-color: var(--disabled-bg-color);\n",
              "    fill: var(--disabled-fill-color);\n",
              "    box-shadow: none;\n",
              "  }\n",
              "\n",
              "  .colab-df-spinner {\n",
              "    border: 2px solid var(--fill-color);\n",
              "    border-color: transparent;\n",
              "    border-bottom-color: var(--fill-color);\n",
              "    animation:\n",
              "      spin 1s steps(1) infinite;\n",
              "  }\n",
              "\n",
              "  @keyframes spin {\n",
              "    0% {\n",
              "      border-color: transparent;\n",
              "      border-bottom-color: var(--fill-color);\n",
              "      border-left-color: var(--fill-color);\n",
              "    }\n",
              "    20% {\n",
              "      border-color: transparent;\n",
              "      border-left-color: var(--fill-color);\n",
              "      border-top-color: var(--fill-color);\n",
              "    }\n",
              "    30% {\n",
              "      border-color: transparent;\n",
              "      border-left-color: var(--fill-color);\n",
              "      border-top-color: var(--fill-color);\n",
              "      border-right-color: var(--fill-color);\n",
              "    }\n",
              "    40% {\n",
              "      border-color: transparent;\n",
              "      border-right-color: var(--fill-color);\n",
              "      border-top-color: var(--fill-color);\n",
              "    }\n",
              "    60% {\n",
              "      border-color: transparent;\n",
              "      border-right-color: var(--fill-color);\n",
              "    }\n",
              "    80% {\n",
              "      border-color: transparent;\n",
              "      border-right-color: var(--fill-color);\n",
              "      border-bottom-color: var(--fill-color);\n",
              "    }\n",
              "    90% {\n",
              "      border-color: transparent;\n",
              "      border-bottom-color: var(--fill-color);\n",
              "    }\n",
              "  }\n",
              "</style>\n",
              "\n",
              "  <script>\n",
              "    async function quickchart(key) {\n",
              "      const quickchartButtonEl =\n",
              "        document.querySelector('#' + key + ' button');\n",
              "      quickchartButtonEl.disabled = true;  // To prevent multiple clicks.\n",
              "      quickchartButtonEl.classList.add('colab-df-spinner');\n",
              "      try {\n",
              "        const charts = await google.colab.kernel.invokeFunction(\n",
              "            'suggestCharts', [key], {});\n",
              "      } catch (error) {\n",
              "        console.error('Error during call to suggestCharts:', error);\n",
              "      }\n",
              "      quickchartButtonEl.classList.remove('colab-df-spinner');\n",
              "      quickchartButtonEl.classList.add('colab-df-quickchart-complete');\n",
              "    }\n",
              "    (() => {\n",
              "      let quickchartButtonEl =\n",
              "        document.querySelector('#df-59c4d716-fcbc-41e0-bbf6-d864c77e905a button');\n",
              "      quickchartButtonEl.style.display =\n",
              "        google.colab.kernel.accessAllowed ? 'block' : 'none';\n",
              "    })();\n",
              "  </script>\n",
              "</div>\n",
              "\n",
              "    </div>\n",
              "  </div>\n"
            ],
            "application/vnd.google.colaboratory.intrinsic+json": {
              "type": "dataframe"
            }
          },
          "metadata": {}
        },
        {
          "output_type": "stream",
          "name": "stdout",
          "text": [
            "<class 'pandas.core.frame.DataFrame'>\n",
            "RangeIndex: 112799 entries, 0 to 112798\n",
            "Columns: 785 entries, 45 to 0.533\n",
            "dtypes: int64(785)\n",
            "memory usage: 675.6 MB\n",
            "train_dataframe shape: (112799, 785)\n"
          ]
        }
      ],
      "source": [
        "display(train_dataframe.head())\n",
        "train_dataframe.info()\n",
        "print(f\"train_dataframe shape: {train_dataframe.shape}\")"
      ]
    },
    {
      "cell_type": "markdown",
      "source": [
        "**[Kaggle EMNIST](https://www.kaggle.com/datasets/crawford/emnist/data)**\n",
        "\n",
        "**Format**\n",
        "\n",
        "There are six different splits provided in this dataset and each are provided in two formats:\n",
        "\n",
        "* Binary (see emnist_source_files.zip)\n",
        "* CSV (combined labels and images)\n",
        "  * Each row is a separate image\n",
        "  * 785 columns\n",
        "  * First column = class_label (see mappings.txt for class label definitions)\n",
        "  * Each column after represents one pixel value (784 total for a 28 x 28 image)"
      ],
      "metadata": {
        "id": "G1VeosfJiLEF"
      }
    },
    {
      "cell_type": "code",
      "execution_count": 51,
      "metadata": {
        "colab": {
          "base_uri": "https://localhost:8080/",
          "height": 542
        },
        "id": "hxe-tndr73Td",
        "outputId": "053655c2-d0a4-43ee-f084-ff7cfd1ca281"
      },
      "outputs": [
        {
          "output_type": "execute_result",
          "data": {
            "text/plain": [
              "22296"
            ]
          },
          "metadata": {},
          "execution_count": 51
        },
        {
          "output_type": "display_data",
          "data": {
            "text/plain": [
              "<Figure size 2000x600 with 1 Axes>"
            ],
            "image/png": "[encoded data removed]"
          },
          "metadata": {}
        }
      ],
      "source": [
        "labels = train_dataframe[\"45\"].values\n",
        "\n",
        "plt.figure(figsize=(20, 6))\n",
        "sns.countplot(x=labels)\n",
        "\n",
        "del labels\n",
        "gc.collect()"
      ]
    },
    {
      "cell_type": "code",
      "source": [
        "def get_mapping(m):\n",
        "  class_mapping = {}\n",
        "  ascii_code = m[1].values\n",
        "  for i, code in enumerate(ascii_code):\n",
        "    class_mapping[i] = chr(code)\n",
        "\n",
        "  return class_mapping"
      ],
      "metadata": {
        "id": "JnfDrpmG56gK"
      },
      "execution_count": 52,
      "outputs": []
    },
    {
      "cell_type": "code",
      "source": [
        "class_mapping = get_mapping(mapping)\n",
        "print(f\"Class Map: {class_mapping}\")"
      ],
      "metadata": {
        "colab": {
          "base_uri": "https://localhost:8080/",
          "height": 0
        },
        "id": "Ef8N8S9b54w5",
        "outputId": "247db34a-1684-40ed-81f2-8fb767a9439c"
      },
      "execution_count": 53,
      "outputs": [
        {
          "output_type": "stream",
          "name": "stdout",
          "text": [
            "Class Map: {0: '0', 1: '1', 2: '2', 3: '3', 4: '4', 5: '5', 6: '6', 7: '7', 8: '8', 9: '9', 10: 'A', 11: 'B', 12: 'C', 13: 'D', 14: 'E', 15: 'F', 16: 'G', 17: 'H', 18: 'I', 19: 'J', 20: 'K', 21: 'L', 22: 'M', 23: 'N', 24: 'O', 25: 'P', 26: 'Q', 27: 'R', 28: 'S', 29: 'T', 30: 'U', 31: 'V', 32: 'W', 33: 'X', 34: 'Y', 35: 'Z', 36: 'a', 37: 'b', 38: 'd', 39: 'e', 40: 'f', 41: 'g', 42: 'h', 43: 'n', 44: 'q', 45: 'r', 46: 't'}\n"
          ]
        }
      ]
    },
    {
      "cell_type": "markdown",
      "metadata": {
        "id": "3JvVAcP3OrjC"
      },
      "source": [
        "### Preprocessing"
      ]
    },
    {
      "cell_type": "markdown",
      "metadata": {
        "id": "MHDuf3UxPhEZ"
      },
      "source": [
        "**Refering to [EMNSIT research paper](https://arxiv.org/abs/1702.05373v1)**\n",
        "\n",
        "* CSV (combined labels and images)\n",
        "  * Each row is a separate image\n",
        "  * 785 columns\n",
        "  * First column = class_label (see mappings.txt for class label definitions)\n",
        "  * Each column after represents one pixel value (784 total for a 28 x 28 image)"
      ]
    },
    {
      "cell_type": "code",
      "source": [
        "# extract label and training data\n",
        "y_train = np.array(train_dataframe.iloc[:,0].values)\n",
        "x_train = np.array(train_dataframe.iloc[:,1:].values)\n",
        "\n",
        "y_test = np.array(test_dataframe.iloc[:,0].values)\n",
        "x_test = np.array(test_dataframe.iloc[:,1:].values)\n",
        "\n",
        "print(f\"Extracted Labels: {y_train}\\n\")\n",
        "print(f\"Train data shape: {x_train.shape}\")\n",
        "print(f\"Train data shape: {x_test.shape}\\n\")\n",
        "\n",
        "del train_dataframe\n",
        "del test_dataframe\n",
        "gc.collect()"
      ],
      "metadata": {
        "colab": {
          "base_uri": "https://localhost:8080/",
          "height": 0
        },
        "id": "f1N_kpsOXIoA",
        "outputId": "0f2b786c-8d9d-48bd-abbd-fb362d95c61b"
      },
      "execution_count": 54,
      "outputs": [
        {
          "output_type": "stream",
          "name": "stdout",
          "text": [
            "Extracted Labels: [36 43 15 ... 23 31  8]\n",
            "\n",
            "Train data shape: (112799, 784)\n",
            "Train data shape: (18799, 784)\n",
            "\n"
          ]
        },
        {
          "output_type": "execute_result",
          "data": {
            "text/plain": [
              "9898"
            ]
          },
          "metadata": {},
          "execution_count": 54
        }
      ]
    },
    {
      "cell_type": "code",
      "source": [
        "# normalize\n",
        "x_train = x_train.astype('float32') / 255\n",
        "x_test = x_test.astype('float32') / 255\n",
        "\n",
        "# Reshape the data to have a single color channel (since EMNIST is grayscale)\n",
        "# and match the input shape expected by the model\n",
        "x_train = x_train.reshape((-1, 28, 28, 1))\n",
        "x_test = x_test.reshape((-1, 28, 28, 1))\n",
        "print(f\"Shape before transpose: {x_train.shape}\")\n",
        "print(f\"Mean before transpose: {np.mean(x_train[116])}\\n\")"
      ],
      "metadata": {
        "colab": {
          "base_uri": "https://localhost:8080/",
          "height": 0
        },
        "id": "FucnTnzfCq3g",
        "outputId": "b696d027-de0c-4d52-d46c-1f8161dbaabc"
      },
      "execution_count": 55,
      "outputs": [
        {
          "output_type": "stream",
          "name": "stdout",
          "text": [
            "Shape before transpose: (112799, 28, 28, 1)\n",
            "Mean before transpose: 0.11454582214355469\n",
            "\n"
          ]
        }
      ]
    },
    {
      "cell_type": "markdown",
      "metadata": {
        "id": "p2QCn6ZJOPAV"
      },
      "source": [
        "### Show 5 samples from original data"
      ]
    },
    {
      "cell_type": "code",
      "execution_count": 56,
      "metadata": {
        "id": "CLUlovZOb9Jm",
        "colab": {
          "base_uri": "https://localhost:8080/",
          "height": 243
        },
        "outputId": "96430105-c3ce-4818-baca-2dae4cec07f4"
      },
      "outputs": [
        {
          "output_type": "display_data",
          "data": {
            "text/plain": [
              "<Figure size 1200x1200 with 5 Axes>"
            ],
            "image/png": "[encoded data removed]"
          },
          "metadata": {}
        }
      ],
      "source": [
        "fig, axes = plt.subplots(1, 5, figsize=(12, 12))\n",
        "\n",
        "for i, ax in enumerate(axes.flatten()):\n",
        "  ax.imshow(x_train[i])\n",
        "  ax.set_title(y_train[i])"
      ]
    },
    {
      "cell_type": "code",
      "source": [
        "# transpose to reverse effect from converting png to csv (2D -> 1D)\n",
        "def transpose_data(x):\n",
        "    return np.transpose(np.squeeze(x))[..., np.newaxis]\n",
        "\n",
        "x_train = np.array([transpose_data(x) for x in x_train])\n",
        "x_test = np.array([transpose_data(x) for x in x_test])\n",
        "print(f\"Shape after transpose: {x_train.shape}\")\n",
        "print(f\"Mean after transpose: {np.mean(x_train[116])}\\n\")"
      ],
      "metadata": {
        "colab": {
          "base_uri": "https://localhost:8080/",
          "height": 0
        },
        "id": "cEqxIUZehytD",
        "outputId": "9e1d94e5-3b75-4343-b449-d09b9be00d4d"
      },
      "execution_count": 57,
      "outputs": [
        {
          "output_type": "stream",
          "name": "stdout",
          "text": [
            "Shape after transpose: (112799, 28, 28, 1)\n",
            "Mean after transpose: 0.11454582214355469\n",
            "\n"
          ]
        }
      ]
    },
    {
      "cell_type": "code",
      "source": [
        "# get a sample image for future comparison\n",
        "sample_image = x_train[116]\n",
        "sample_label = y_train[116]\n",
        "print(f\"Sample image shape: {sample_image.shape}\")\n",
        "print(f\"Sample label: {class_mapping.get(sample_label)}\")"
      ],
      "metadata": {
        "colab": {
          "base_uri": "https://localhost:8080/",
          "height": 0
        },
        "id": "BVhW8pqhFssL",
        "outputId": "9711226f-3cf2-45ff-9791-bcdf337a832b"
      },
      "execution_count": 60,
      "outputs": [
        {
          "output_type": "stream",
          "name": "stdout",
          "text": [
            "Sample image shape: (28, 28, 1)\n",
            "Sample label: F\n"
          ]
        }
      ]
    },
    {
      "cell_type": "code",
      "source": [
        "train_dataset = tf.data.Dataset.from_tensor_slices((x_train, y_train))\n",
        "test_dataset = tf.data.Dataset.from_tensor_slices((x_test, y_test))\n",
        "print(f\"train_dataset shape: {train_dataset.element_spec}\")"
      ],
      "metadata": {
        "id": "T2Y4wH3hBdpt",
        "colab": {
          "base_uri": "https://localhost:8080/",
          "height": 0
        },
        "outputId": "cc82b943-99ba-4001-8467-8b73a804d1f8"
      },
      "execution_count": 58,
      "outputs": [
        {
          "output_type": "stream",
          "name": "stdout",
          "text": [
            "train_dataset shape: (TensorSpec(shape=(28, 28, 1), dtype=tf.float32, name=None), TensorSpec(shape=(), dtype=tf.int64, name=None))\n"
          ]
        }
      ]
    },
    {
      "cell_type": "code",
      "source": [
        "del x_train\n",
        "del x_test\n",
        "del y_train\n",
        "del y_test\n",
        "gc.collect()"
      ],
      "metadata": {
        "colab": {
          "base_uri": "https://localhost:8080/",
          "height": 0
        },
        "id": "YByMHnqK9W6F",
        "outputId": "f1032aaa-bcd1-4f5b-a51a-e4762c090cf4"
      },
      "execution_count": 63,
      "outputs": [
        {
          "output_type": "execute_result",
          "data": {
            "text/plain": [
              "25271"
            ]
          },
          "metadata": {},
          "execution_count": 63
        }
      ]
    },
    {
      "cell_type": "code",
      "source": [
        "train_dataset = train_dataset.cache().shuffle(10000).batch(16).prefetch(tf.data.AUTOTUNE)\n",
        "test_dataset = test_dataset.cache().batch(16)"
      ],
      "metadata": {
        "id": "ANpntwod9d3R"
      },
      "execution_count": 62,
      "outputs": []
    },
    {
      "cell_type": "markdown",
      "metadata": {
        "id": "RfA7ddTSPDpG"
      },
      "source": [
        "### Show 5 samples from preprocessed data"
      ]
    },
    {
      "cell_type": "code",
      "source": [
        "for img_ds, labels_ds in train_dataset.take(1):\n",
        "  fig, axes = plt.subplots(1, 5, figsize=(12, 12))\n",
        "\n",
        "  for i, ax in enumerate(axes.flatten()):\n",
        "    ax.imshow(img_ds[i])\n",
        "    ax.set_title(class_mapping.get(labels_ds[i].numpy()))"
      ],
      "metadata": {
        "colab": {
          "base_uri": "https://localhost:8080/",
          "height": 243
        },
        "id": "Zglg1VVG7Nod",
        "outputId": "ac3f9cd8-4cb7-4aed-8e5f-594f2aea6f28"
      },
      "execution_count": 64,
      "outputs": [
        {
          "output_type": "display_data",
          "data": {
            "text/plain": [
              "<Figure size 1200x1200 with 5 Axes>"
            ],
            "image/png": "[encoded data removed]"
          },
          "metadata": {}
        }
      ]
    },
    {
      "cell_type": "markdown",
      "metadata": {
        "id": "Rynmv_tnGfHY"
      },
      "source": [
        "## **3. Build Model**\n",
        "\n",
        "\n",
        "---\n",
        "\n"
      ]
    },
    {
      "cell_type": "markdown",
      "source": [
        "### Neural Network (NN)"
      ],
      "metadata": {
        "id": "a94-R61G4R4f"
      }
    },
    {
      "cell_type": "markdown",
      "source": [
        "### Convolutional Neural Network (CNN)"
      ],
      "metadata": {
        "id": "MTuD_66i4LMV"
      }
    },
    {
      "cell_type": "markdown",
      "source": [
        "### Build Sequential Model"
      ],
      "metadata": {
        "id": "ZrrnJiNg4V8f"
      }
    },
    {
      "cell_type": "code",
      "source": [
        "input_shape = img_ds.shape[1:]\n",
        "num_classes = len(class_mapping)\n",
        "\n",
        "model = Sequential([\n",
        "    layers.Input(shape=input_shape),\n",
        "    layers.Conv2D(filters=32, kernel_size=(6, 6), activation='relu', padding='same'),\n",
        "    layers.MaxPooling2D((3, 3)),\n",
        "    layers.Conv2D(filters=64, kernel_size=(4, 4), activation='relu', padding='same'),\n",
        "    layers.MaxPooling2D((2, 2)),\n",
        "    layers.Conv2D(filters=128, kernel_size=(3, 3), activation='relu'),\n",
        "    layers.Flatten(),\n",
        "    layers.Dense(64, activation='relu'),\n",
        "    layers.Dense(64, activation='relu'),\n",
        "    layers.Dropout(0.5),\n",
        "    layers.Dense(num_classes)\n",
        "])"
      ],
      "metadata": {
        "id": "0EYJkIwL67mT"
      },
      "execution_count": 19,
      "outputs": []
    },
    {
      "cell_type": "markdown",
      "metadata": {
        "id": "Q5CIY_4XGnf2"
      },
      "source": [
        "## **4. Compile, Fit & Save Model**\n",
        "\n",
        "\n",
        "---\n",
        "\n"
      ]
    },
    {
      "cell_type": "markdown",
      "source": [
        "**Compile: specifying a loss, metrics, and an optimizer**"
      ],
      "metadata": {
        "id": "OCe_HXU26gNY"
      }
    },
    {
      "cell_type": "markdown",
      "source": [
        "### Optimizers"
      ],
      "metadata": {
        "id": "t7cbW4X958Zr"
      }
    },
    {
      "cell_type": "markdown",
      "source": [
        "**Adam**\n",
        "\n",
        "Adaptive Moment Estimation is an algorithm for optimization technique for gradient descent. [Read more here](https://www.geeksforgeeks.org/adam-optimizer/)\n"
      ],
      "metadata": {
        "id": "6iwSGQso63Yz"
      }
    },
    {
      "cell_type": "markdown",
      "source": [
        "**RMSprop**\n",
        "\n",
        "RMSprop (Root Mean Squared Propagation) is an adaptive learning rate optimization algorithm. [Read more here](https://medium.com/thedeephub/what-is-rmsprop-0f54effc47e4)"
      ],
      "metadata": {
        "id": "ilSnyWOz70vK"
      }
    },
    {
      "cell_type": "markdown",
      "source": [
        "### Loss Functions"
      ],
      "metadata": {
        "id": "8daaCab28gzu"
      }
    },
    {
      "cell_type": "markdown",
      "source": [
        "**Categorical Cross-Entropy**\n",
        "\n",
        "Computes the crossentropy loss between the labels **(one-hot encoded vectors)** and predictions. [Read more here](https://neuralthreads.medium.com/categorical-cross-entropy-loss-the-most-important-loss-function-d3792151d05b)"
      ],
      "metadata": {
        "id": "ldXgbBFD8kd0"
      }
    },
    {
      "cell_type": "markdown",
      "source": [
        "**Sparse Categorical Cross-Entropy**\n",
        "\n",
        "Computes the crossentropy loss between the labels **(integer values)** and predictions. [Read more here](https://medium.com/@shireenchand/choosing-between-cross-entropy-and-sparse-cross-entropy-the-only-guide-you-need-abea92c84662)"
      ],
      "metadata": {
        "id": "RVT7iXcg9Zqz"
      }
    },
    {
      "cell_type": "markdown",
      "source": [
        "### Metrics"
      ],
      "metadata": {
        "id": "MR_9DnDm_Jnq"
      }
    },
    {
      "cell_type": "markdown",
      "source": [
        "**Accuracy**\n",
        "\n",
        "**Loss**"
      ],
      "metadata": {
        "id": "lQ0h2eag_3t3"
      }
    },
    {
      "cell_type": "markdown",
      "source": [
        "**Val Accuracy**\n",
        "\n",
        "**Val Loss**"
      ],
      "metadata": {
        "id": "lzQsavpi_59_"
      }
    },
    {
      "cell_type": "markdown",
      "source": [
        "### Compile"
      ],
      "metadata": {
        "id": "88Bghar8-A65"
      }
    },
    {
      "cell_type": "code",
      "source": [
        "model.compile(\n",
        "    optimizer='adam',\n",
        "    loss=tf.keras.losses.SparseCategoricalCrossentropy(from_logits=True),\n",
        "    metrics=['accuracy']\n",
        ")"
      ],
      "metadata": {
        "id": "tT3F0TYL-QLU"
      },
      "execution_count": 20,
      "outputs": []
    },
    {
      "cell_type": "code",
      "source": [
        "model.summary()"
      ],
      "metadata": {
        "colab": {
          "base_uri": "https://localhost:8080/",
          "height": 0
        },
        "id": "48QTX3Qd-We2",
        "outputId": "daeb987d-676c-4c1a-f8cb-8be78d376c74"
      },
      "execution_count": 21,
      "outputs": [
        {
          "output_type": "stream",
          "name": "stdout",
          "text": [
            "Model: \"sequential\"\n",
            "_________________________________________________________________\n",
            " Layer (type)                Output Shape              Param #   \n",
            "=================================================================\n",
            " conv2d (Conv2D)             (None, 28, 28, 32)        1184      \n",
            "                                                                 \n",
            " max_pooling2d (MaxPooling2  (None, 9, 9, 32)          0         \n",
            " D)                                                              \n",
            "                                                                 \n",
            " conv2d_1 (Conv2D)           (None, 9, 9, 64)          32832     \n",
            "                                                                 \n",
            " max_pooling2d_1 (MaxPoolin  (None, 4, 4, 64)          0         \n",
            " g2D)                                                            \n",
            "                                                                 \n",
            " conv2d_2 (Conv2D)           (None, 2, 2, 128)         73856     \n",
            "                                                                 \n",
            " flatten (Flatten)           (None, 512)               0         \n",
            "                                                                 \n",
            " dense (Dense)               (None, 64)                32832     \n",
            "                                                                 \n",
            " dense_1 (Dense)             (None, 64)                4160      \n",
            "                                                                 \n",
            " dropout (Dropout)           (None, 64)                0         \n",
            "                                                                 \n",
            " dense_2 (Dense)             (None, 47)                3055      \n",
            "                                                                 \n",
            "=================================================================\n",
            "Total params: 147919 (577.81 KB)\n",
            "Trainable params: 147919 (577.81 KB)\n",
            "Non-trainable params: 0 (0.00 Byte)\n",
            "_________________________________________________________________\n"
          ]
        }
      ]
    },
    {
      "cell_type": "markdown",
      "source": [
        "### Fit Model"
      ],
      "metadata": {
        "id": "PH-vMvGI-e-U"
      }
    },
    {
      "cell_type": "code",
      "source": [
        "EPOCHS = 5\n",
        "\n",
        "early_stopping = tf.keras.callbacks.EarlyStopping(\n",
        "    monitor='val_accuracy',\n",
        "    patience=3,\n",
        "    restore_best_weights=True,\n",
        "    min_delta=0,\n",
        "    mode='max',\n",
        "    verbose=0\n",
        ")"
      ],
      "metadata": {
        "id": "Muw6wkKI-gvw"
      },
      "execution_count": 22,
      "outputs": []
    },
    {
      "cell_type": "code",
      "source": [
        "history = model.fit(\n",
        "    train_dataset,\n",
        "    validation_data=test_dataset,\n",
        "    epochs=EPOCHS,\n",
        "    callbacks=[early_stopping]\n",
        ")"
      ],
      "metadata": {
        "colab": {
          "base_uri": "https://localhost:8080/",
          "height": 0
        },
        "id": "mzo9g-4Q-7dB",
        "outputId": "ce42f216-daa7-4dff-ed18-9c23dd0ca3ea"
      },
      "execution_count": 23,
      "outputs": [
        {
          "output_type": "stream",
          "name": "stdout",
          "text": [
            "Epoch 1/5\n",
            "7050/7050 [==============================] - 42s 5ms/step - loss: 0.9275 - accuracy: 0.7156 - val_loss: 0.4725 - val_accuracy: 0.8402\n",
            "Epoch 2/5\n",
            "7050/7050 [==============================] - 34s 5ms/step - loss: 0.5264 - accuracy: 0.8308 - val_loss: 0.4435 - val_accuracy: 0.8516\n",
            "Epoch 3/5\n",
            "7050/7050 [==============================] - 36s 5ms/step - loss: 0.4604 - accuracy: 0.8495 - val_loss: 0.4475 - val_accuracy: 0.8569\n",
            "Epoch 4/5\n",
            "7050/7050 [==============================] - 33s 5ms/step - loss: 0.4265 - accuracy: 0.8593 - val_loss: 0.4141 - val_accuracy: 0.8632\n",
            "Epoch 5/5\n",
            "7050/7050 [==============================] - 34s 5ms/step - loss: 0.4003 - accuracy: 0.8667 - val_loss: 0.4314 - val_accuracy: 0.8661\n"
          ]
        }
      ]
    },
    {
      "cell_type": "markdown",
      "source": [
        "### Save Model"
      ],
      "metadata": {
        "id": "DiNnC1wkB53Z"
      }
    },
    {
      "cell_type": "code",
      "source": [
        "model.save('ocr_model')"
      ],
      "metadata": {
        "id": "dvxi2hjBB7dV"
      },
      "execution_count": 24,
      "outputs": []
    },
    {
      "cell_type": "markdown",
      "metadata": {
        "id": "ZnZlAxNuGs6i"
      },
      "source": [
        "## **5. Test Accuracy of Model**\n",
        "\n",
        "\n",
        "---\n",
        "\n"
      ]
    },
    {
      "cell_type": "markdown",
      "source": [
        "### Evaluate"
      ],
      "metadata": {
        "id": "IDHyTfxvADdg"
      }
    },
    {
      "cell_type": "markdown",
      "source": [
        "**Evaluate Function**"
      ],
      "metadata": {
        "id": "M4a_dQ7YAOrR"
      }
    },
    {
      "cell_type": "code",
      "source": [
        "model.evaluate(test_dataset)"
      ],
      "metadata": {
        "colab": {
          "base_uri": "https://localhost:8080/",
          "height": 0
        },
        "id": "4ECnj1C5AFbs",
        "outputId": "ffe3c48b-a37b-4c04-b198-52b36a8ac9d8"
      },
      "execution_count": 25,
      "outputs": [
        {
          "output_type": "stream",
          "name": "stdout",
          "text": [
            "1175/1175 [==============================] - 3s 2ms/step - loss: 0.4314 - accuracy: 0.8661\n"
          ]
        },
        {
          "output_type": "execute_result",
          "data": {
            "text/plain": [
              "[0.43141597509384155, 0.8661099076271057]"
            ]
          },
          "metadata": {},
          "execution_count": 25
        }
      ]
    },
    {
      "cell_type": "markdown",
      "metadata": {
        "id": "RpYsty8uG2ha"
      },
      "source": [
        "## **6. Export Model**\n",
        "\n",
        "\n",
        "---\n",
        "\n"
      ]
    },
    {
      "cell_type": "markdown",
      "source": [
        "### Python Module"
      ],
      "metadata": {
        "id": "DRIYtPlkCsOZ"
      }
    },
    {
      "cell_type": "code",
      "source": [
        "class OCDModel(tf.Module):\n",
        "  def __init__(self, model):\n",
        "    self.model = model\n",
        "    self.class_mapping = {0: '0', 1: '1', 2: '2', 3: '3', 4: '4', 5: '5', 6: '6', 7: '7', 8: '8', 9: '9',\n",
        "                        10: 'A', 11: 'B', 12: 'C', 13: 'D', 14: 'E', 15: 'F', 16: 'G', 17: 'H', 18: 'I',\n",
        "                        19: 'J', 20: 'K', 21: 'L', 22: 'M', 23: 'N', 24: 'O', 25: 'P', 26: 'Q', 27: 'R',\n",
        "                        28: 'S', 29: 'T', 30: 'U', 31: 'V', 32: 'W', 33: 'X', 34: 'Y', 35: 'Z', 36: 'a',\n",
        "                        37: 'b', 38: 'd', 39: 'e', 40: 'f', 41: 'g', 42: 'h', 43: 'n', 44: 'q', 45: 'r',\n",
        "                        46: 't'}\n",
        "\n",
        "  @tf.function\n",
        "  def predict(self, data):\n",
        "    if isinstance(data, tf.float32):\n",
        "      result = self.model(data, training=False)\n",
        "    elif isinstance(data, str):\n",
        "      img = preprocess_image(data, 'preprocessed_input_img.png')\n",
        "      result = self.model(img, training=False)\n",
        "    else:\n",
        "      raise ValueError(\"Unsurported data type.\\nPlease pass preprocessed image using preprocess_image function.\\nOr pass path to image file\")\n",
        "\n",
        "    return result\n",
        "\n",
        "  def __call__(self, data):\n",
        "    pred = self.predict(data)\n",
        "    return self.class_mapping.get(np.argmax(pred.numpy()[0]))\n"
      ],
      "metadata": {
        "id": "HF-mjd8oDA6b"
      },
      "execution_count": 26,
      "outputs": []
    },
    {
      "cell_type": "markdown",
      "source": [
        "### TensorFlow Lite for Flutter"
      ],
      "metadata": {
        "id": "8RH0BEkTC65T"
      }
    },
    {
      "cell_type": "markdown",
      "source": [
        "**TensorFlow Lite**\n",
        "\n",
        "* TensorFlow Lite is a way to run TensorFlow models on devices locally, supporting mobile, embedded, web, and edge devices.  [Read more here](https://blog.tensorflow.org/2023/08/the-tensorflow-lite-plugin-for-flutter-officially-available.html)\n",
        "\n",
        "* Convert model to TFLite [Documentation](https://www.tensorflow.org/lite/models/convert/convert_models)"
      ],
      "metadata": {
        "id": "WHHAZnZhDTCy"
      }
    },
    {
      "cell_type": "code",
      "source": [],
      "metadata": {
        "id": "_AZZahJhD8GZ"
      },
      "execution_count": 26,
      "outputs": []
    },
    {
      "cell_type": "markdown",
      "metadata": {
        "id": "ELiSmeBQG53-"
      },
      "source": [
        "## **7. UI, Input & Preprocessing Pipeline**\n",
        "\n",
        "\n",
        "---\n",
        "\n"
      ]
    },
    {
      "cell_type": "markdown",
      "metadata": {
        "id": "2wugnhogno76"
      },
      "source": [
        "### Preprocessing pipeline"
      ]
    },
    {
      "cell_type": "code",
      "source": [
        "!gdown 1-cTOocQVoNPAl4u5oxu6eBgIUG5jg4y3\n",
        "!gdown 12NGQvSBp0hBIbiFidPYAyjKhX17ooJGn"
      ],
      "metadata": {
        "colab": {
          "base_uri": "https://localhost:8080/",
          "height": 0
        },
        "id": "u1-VVp534-2h",
        "outputId": "0cbeda69-f493-47be-9fc5-59ad7e08c6db"
      },
      "execution_count": 27,
      "outputs": [
        {
          "output_type": "stream",
          "name": "stdout",
          "text": [
            "Downloading...\n",
            "From: https://drive.google.com/uc?id=1-cTOocQVoNPAl4u5oxu6eBgIUG5jg4y3\n",
            "To: /content/random_scale_img_f.png\n",
            "100% 14.1k/14.1k [00:00<00:00, 36.0MB/s]\n",
            "Downloading...\n",
            "From: https://drive.google.com/uc?id=12NGQvSBp0hBIbiFidPYAyjKhX17ooJGn\n",
            "To: /content/sample_input.png\n",
            "100% 793/793 [00:00<00:00, 4.22MB/s]\n"
          ]
        }
      ]
    },
    {
      "cell_type": "code",
      "execution_count": 28,
      "metadata": {
        "id": "fTomaok5nze9"
      },
      "outputs": [],
      "source": [
        "import cv2\n",
        "from scipy.ndimage import gaussian_filter"
      ]
    },
    {
      "cell_type": "code",
      "execution_count": 29,
      "metadata": {
        "id": "qTzb6pmQnwRy"
      },
      "outputs": [],
      "source": [
        "def preprocess_image(input_image_path, output_image_path):\n",
        "    # read the original image\n",
        "    image = cv2.imread(input_image_path, cv2.IMREAD_GRAYSCALE)\n",
        "    if image is None:\n",
        "        raise ValueError(\"Image not found or the path is incorrect\")\n",
        "\n",
        "    # invert the colors of the image\n",
        "    image = 255 - image\n",
        "\n",
        "    # apply Gaussian filter with σ = 1\n",
        "    image = gaussian_filter(image, sigma=1)\n",
        "\n",
        "    # extract the region around the character\n",
        "    # find non-zero pixels (characters)\n",
        "    coords = cv2.findNonZero(image)\n",
        "    x, y, w, h = cv2.boundingRect(coords)\n",
        "\n",
        "    # crop the image to the bounding box\n",
        "    cropped_image = image[y:y+h, x:x+w]\n",
        "\n",
        "    # center the character in a square image\n",
        "    # calculate the size of the new image (keeping the aspect ratio)\n",
        "    max_side = max(w, h)\n",
        "    square_image = np.zeros((max_side, max_side), dtype=np.uint8)\n",
        "\n",
        "    # compute the offset to center the character\n",
        "    x_offset = (max_side - w) // 2\n",
        "    y_offset = (max_side - h) // 2\n",
        "\n",
        "    # place the cropped image in the center of the square image\n",
        "    square_image[y_offset:y_offset+h, x_offset:x_offset+w] = cropped_image\n",
        "\n",
        "    # add a 2-pixel border\n",
        "    padded_image = cv2.copyMakeBorder(square_image, 2, 2, 2, 2, cv2.BORDER_CONSTANT, value=0)\n",
        "\n",
        "    # down-sample to 28x28 using bi-cubic interpolation\n",
        "    downsampled_image = cv2.resize(padded_image, (28, 28), interpolation=cv2.INTER_CUBIC)\n",
        "\n",
        "    # scale intensity values to [0, 255]\n",
        "    # convert image to have values in range [0, 255]\n",
        "    final_image = cv2.normalize(downsampled_image, None, 0, 255, cv2.NORM_MINMAX)\n",
        "\n",
        "    # normalize values between [0, 1]\n",
        "    final_image = final_image/255.0\n",
        "\n",
        "    # verify that preprocessing is consistant with data\n",
        "    print(f\"Mean input image: {np.mean(final_image)}\\n\")\n",
        "    plt.imshow(final_image[..., np.newaxis])\n",
        "\n",
        "    # save the final processed image\n",
        "    cv2.imwrite(output_image_path, final_image[..., np.newaxis])\n",
        "\n",
        "    # add batch shape, and channel\n",
        "    return final_image[np.newaxis, ..., np.newaxis]"
      ]
    },
    {
      "cell_type": "code",
      "execution_count": 72,
      "metadata": {
        "id": "hcZBX2uOz-El",
        "colab": {
          "base_uri": "https://localhost:8080/",
          "height": 428
        },
        "outputId": "721e2dbd-2b19-4b5a-92e9-f5fc93a668aa"
      },
      "outputs": [
        {
          "output_type": "stream",
          "name": "stdout",
          "text": [
            "Mean input image: 0.10560724289715887\n",
            "\n",
            "Mean input image: 0.09445278111244497\n",
            "\n"
          ]
        },
        {
          "output_type": "display_data",
          "data": {
            "text/plain": [
              "<Figure size 1200x800 with 3 Axes>"
            ],
            "image/png": "[encoded data removed]"
          },
          "metadata": {}
        }
      ],
      "source": [
        "# compare sample from dataset & preprocessed input image\n",
        "fig, axes = plt.subplots(1, 3, figsize=(12, 8))\n",
        "axes[0].imshow(sample_image)\n",
        "axes[0].set_title(np.mean(sample_image));\n",
        "\n",
        "preprocessed_img_nist = preprocess_image('sample_input.png', 'preprocessed_sample_input.png')\n",
        "img1 = np.squeeze(preprocessed_img_nist, axis=0)\n",
        "axes[1].imshow(img1)\n",
        "axes[1].set_title(np.mean(img1));\n",
        "\n",
        "preprocessed_img_f = preprocess_image('random_scale_img_f.png', 'preprocessed_random_scale_img_f.png')\n",
        "img2 = np.squeeze(preprocessed_img_f, axis=0)\n",
        "axes[2].imshow(img2)\n",
        "axes[2].set_title(np.mean(img2));"
      ]
    },
    {
      "cell_type": "markdown",
      "metadata": {
        "id": "5N6fIrzXHFVh"
      },
      "source": [
        "## **8. Load & Use Pretrained Model**\n",
        "\n",
        "\n",
        "---\n",
        "\n"
      ]
    },
    {
      "cell_type": "markdown",
      "source": [
        "### Run prediction on Google Colab"
      ],
      "metadata": {
        "id": "myp5klMF3LFd"
      }
    },
    {
      "cell_type": "code",
      "source": [
        "model = tf.keras.models.load_model('ocr_model')\n",
        "pred = model.predict(preprocessed_img_f)\n",
        "print(f\"Prediction: {class_mapping.get(np.argmax(pred[0]))}\")\n",
        "\n",
        "plt.figure()\n",
        "plt.imshow(np.squeeze(preprocessed_img_f, axis=0))\n",
        "plt.title(class_mapping.get(np.argmax(pred[0])));"
      ],
      "metadata": {
        "colab": {
          "base_uri": "https://localhost:8080/",
          "height": 526
        },
        "id": "WBd7ul5I22_q",
        "outputId": "d2730be7-b2ac-4685-ba1d-86529b825301"
      },
      "execution_count": 73,
      "outputs": [
        {
          "output_type": "stream",
          "name": "stderr",
          "text": [
            "WARNING:tensorflow:5 out of the last 5 calls to <function Model.make_predict_function.<locals>.predict_function at 0x7e218a119990> triggered tf.function retracing. Tracing is expensive and the excessive number of tracings could be due to (1) creating @tf.function repeatedly in a loop, (2) passing tensors with different shapes, (3) passing Python objects instead of tensors. For (1), please define your @tf.function outside of the loop. For (2), @tf.function has reduce_retracing=True option that can avoid unnecessary retracing. For (3), please refer to https://www.tensorflow.org/guide/function#controlling_retracing and https://www.tensorflow.org/api_docs/python/tf/function for  more details.\n"
          ]
        },
        {
          "output_type": "stream",
          "name": "stdout",
          "text": [
            "1/1 [==============================] - 0s 118ms/step\n",
            "Prediction: F\n"
          ]
        },
        {
          "output_type": "display_data",
          "data": {
            "text/plain": [
              "<Figure size 640x480 with 1 Axes>"
            ],
            "image/png": "[encoded data removed]"
          },
          "metadata": {}
        }
      ]
    },
    {
      "cell_type": "markdown",
      "source": [
        "### Python code to capture handwriting"
      ],
      "metadata": {
        "id": "BQ48YzNQ27Jq"
      }
    },
    {
      "cell_type": "markdown",
      "source": [
        "**GitHub Repo**"
      ],
      "metadata": {
        "id": "KVU35EkK3oKA"
      }
    },
    {
      "cell_type": "markdown",
      "source": [
        "### Deploy in Flutter application with TensorFlow Lite Plugin"
      ],
      "metadata": {
        "id": "NK3J4kjR3Ucs"
      }
    }
  ],
  "metadata": {
    "colab": {
      "provenance": [],
      "gpuType": "T4"
    },
    "kernelspec": {
      "display_name": "Python 3",
      "name": "python3"
    },
    "language_info": {
      "name": "python"
    },
    "accelerator": "GPU"
  },
  "nbformat": 4,
  "nbformat_minor": 0
}